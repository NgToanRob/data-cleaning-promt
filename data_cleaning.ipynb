{
 "cells": [
  {
   "cell_type": "markdown",
   "id": "03d2266e",
   "metadata": {},
   "source": [
    "## Data cleaning"
   ]
  },
  {
   "cell_type": "code",
   "execution_count": 1,
   "id": "4e55fcd3",
   "metadata": {},
   "outputs": [],
   "source": [
    "!pip install -q -r requirements.txt"
   ]
  },
  {
   "cell_type": "markdown",
   "id": "2dd4da78",
   "metadata": {},
   "source": [
    "Here, I have two options for language detection: using langdetect and fasttext. Based on this [benchmark](https://github.com/zafercavdar/fasttext-langdetect?tab=readme-ov-file#benchmark), we can see that fasttext is almost 100 times faster than langdetect."
   ]
  },
  {
   "cell_type": "code",
   "execution_count": 1,
   "id": "60cdb7ae-cd0b-4a8f-af9b-cdca39194d84",
   "metadata": {},
   "outputs": [
    {
     "name": "stdout",
     "output_type": "stream",
     "text": [
      "Processing hu-ru.txt/MultiParaCrawl.hu-ru.hu: 100%|█| 333006/333006 [00:05<00:00\n",
      "Processing hu-ru.txt/MultiParaCrawl.hu-ru.ru: 100%|█| 333006/333006 [00:06<00:00\n",
      "Saving output_alpha.hu: 100%|█████████| 332996/332996 [00:45<00:00, 7311.45it/s]\n",
      "Saving output_alpha.ru: 100%|█████████| 332996/332996 [00:45<00:00, 7381.65it/s]\n",
      "Processing output_alpha.hu: 100%|████| 332996/332996 [00:08<00:00, 37309.17it/s]\n",
      "Processing output_alpha.ru: 100%|████| 332996/332996 [00:08<00:00, 38875.85it/s]\n",
      "Saving final_output.hu: 100%|█████████| 330025/330025 [00:42<00:00, 7841.53it/s]\n",
      "Saving final_output.ru: 100%|█████████| 330025/330025 [00:35<00:00, 9225.73it/s]\n"
     ]
    }
   ],
   "source": [
    "## filter by alphabet and detect language\n",
    "!python3 text_cleaning.py"
   ]
  },
  {
   "cell_type": "markdown",
   "id": "57aa2c1f",
   "metadata": {},
   "source": [
    "## Build frequency list"
   ]
  },
  {
   "cell_type": "code",
   "execution_count": 2,
   "id": "5c1ca0dc-53e9-466f-9c7a-81d8f4379d97",
   "metadata": {},
   "outputs": [
    {
     "name": "stdout",
     "output_type": "stream",
     "text": [
      "Processing lines: 100%|███████████████| 330025/330025 [00:38<00:00, 8625.30it/s]\n",
      "Processing lines: 100%|███████████████| 330025/330025 [00:34<00:00, 9529.69it/s]\n"
     ]
    }
   ],
   "source": [
    "!python3 frequency_list.py"
   ]
  }
 ],
 "metadata": {
  "kernelspec": {
   "display_name": "Python 3 (ipykernel)",
   "language": "python",
   "name": "python3"
  },
  "language_info": {
   "codemirror_mode": {
    "name": "ipython",
    "version": 3
   },
   "file_extension": ".py",
   "mimetype": "text/x-python",
   "name": "python",
   "nbconvert_exporter": "python",
   "pygments_lexer": "ipython3",
   "version": "3.10.12"
  }
 },
 "nbformat": 4,
 "nbformat_minor": 5
}
